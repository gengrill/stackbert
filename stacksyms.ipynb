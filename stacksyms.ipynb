{
 "cells": [
  {
   "cell_type": "code",
   "execution_count": 1,
   "metadata": {},
   "outputs": [],
   "source": [
    "from stacksyms import newParseDWARF, parseDWARF, staticGDB\n",
    "\n",
    "debugFilepath = 'data/cross-compile-dataset/bin/static/gcc/og/parallel'\n"
   ]
  },
  {
   "cell_type": "code",
   "execution_count": 3,
   "metadata": {},
   "outputs": [
    {
     "name": "stderr",
     "output_type": "stream",
     "text": [
      "01/22/2021 23:19:45 INFO:Processing compilation unit DWARF info (version 4)\n",
      "01/22/2021 23:19:45 INFO:Processing function main.\n",
      "01/22/2021 23:19:45 INFO:Found 17 stack elements.\n",
      "01/22/2021 23:19:45 INFO:Processing function create_pipe_child.\n",
      "01/22/2021 23:19:45 INFO:Found 4 stack elements.\n",
      "01/22/2021 23:19:45 INFO:Processing function pipe_child.\n",
      "01/22/2021 23:19:45 INFO:Found 5 stack elements.\n",
      "01/22/2021 23:19:45 INFO:Processing function wait_for_child.\n",
      "01/22/2021 23:19:45 INFO:Found 3 stack elements.\n",
      "01/22/2021 23:19:45 INFO:Processing function exec_child.\n",
      "01/22/2021 23:19:45 INFO:Found 6 stack elements.\n",
      "01/22/2021 23:19:45 INFO:Processing function redirect.\n",
      "01/22/2021 23:19:45 INFO:Found 3 stack elements.\n",
      "01/22/2021 23:19:45 INFO:Processing function usage.\n",
      "01/22/2021 23:19:45 INFO:Found 0 stack elements.\n",
      "01/22/2021 23:19:45 INFO:Processing function printf.\n",
      "01/22/2021 23:19:45 INFO:Found 1 stack elements.\n",
      "01/22/2021 23:19:45 INFO:Processing function fprintf.\n",
      "01/22/2021 23:19:45 INFO:Found 2 stack elements.\n",
      "01/22/2021 23:19:45 INFO:Processing function sprintf.\n",
      "01/22/2021 23:19:45 INFO:Found 2 stack elements.\n",
      "01/22/2021 23:19:45 INFO:Processing function memcpy.\n",
      "01/22/2021 23:19:45 INFO:Found 3 stack elements.\n",
      "01/22/2021 23:19:45 INFO:Processing function read.\n",
      "01/22/2021 23:19:45 INFO:Found 3 stack elements.\n",
      "01/22/2021 23:19:45 INFO:Processing function __strdup.\n",
      "01/22/2021 23:19:45 INFO:Found 0 stack elements.\n",
      "01/22/2021 23:19:45 INFO:Processing function calloc.\n",
      "01/22/2021 23:19:45 INFO:Found 0 stack elements.\n",
      "01/22/2021 23:19:45 INFO:Processing function exit.\n",
      "01/22/2021 23:19:45 INFO:Found 0 stack elements.\n",
      "01/22/2021 23:19:45 INFO:Processing function sleep.\n",
      "01/22/2021 23:19:45 INFO:Found 0 stack elements.\n",
      "01/22/2021 23:19:45 INFO:Processing function getloadavg.\n",
      "01/22/2021 23:19:45 INFO:Found 0 stack elements.\n",
      "01/22/2021 23:19:45 INFO:Processing function __fprintf_chk.\n",
      "01/22/2021 23:19:45 INFO:Found 0 stack elements.\n",
      "01/22/2021 23:19:45 INFO:Processing function __builtin_fwrite.\n",
      "01/22/2021 23:19:45 INFO:Found 0 stack elements.\n",
      "01/22/2021 23:19:45 INFO:Processing function getopt.\n",
      "01/22/2021 23:19:45 INFO:Found 0 stack elements.\n",
      "01/22/2021 23:19:45 INFO:Processing function __errno_location.\n",
      "01/22/2021 23:19:45 INFO:Found 0 stack elements.\n",
      "01/22/2021 23:19:45 INFO:Processing function strtoul.\n",
      "01/22/2021 23:19:45 INFO:Found 0 stack elements.\n",
      "01/22/2021 23:19:45 INFO:Processing function strtod.\n",
      "01/22/2021 23:19:45 INFO:Found 0 stack elements.\n",
      "01/22/2021 23:19:45 INFO:Processing function sysconf.\n",
      "01/22/2021 23:19:45 INFO:Found 0 stack elements.\n",
      "01/22/2021 23:19:45 INFO:Processing function kill.\n",
      "01/22/2021 23:19:45 INFO:Found 0 stack elements.\n",
      "01/22/2021 23:19:45 INFO:Processing function __stack_chk_fail.\n",
      "01/22/2021 23:19:45 INFO:Found 0 stack elements.\n",
      "01/22/2021 23:19:45 INFO:Processing function pipe.\n",
      "01/22/2021 23:19:45 INFO:Found 0 stack elements.\n",
      "01/22/2021 23:19:45 INFO:Processing function fork.\n",
      "01/22/2021 23:19:45 INFO:Found 0 stack elements.\n",
      "01/22/2021 23:19:45 INFO:Processing function close.\n",
      "01/22/2021 23:19:45 INFO:Found 0 stack elements.\n",
      "01/22/2021 23:19:45 INFO:Processing function strerror.\n",
      "01/22/2021 23:19:45 INFO:Found 0 stack elements.\n",
      "01/22/2021 23:19:45 INFO:Processing function write.\n",
      "01/22/2021 23:19:45 INFO:Found 0 stack elements.\n",
      "01/22/2021 23:19:45 INFO:Processing function __read_alias.\n",
      "01/22/2021 23:19:45 INFO:Found 0 stack elements.\n",
      "01/22/2021 23:19:45 INFO:Processing function waitid.\n",
      "01/22/2021 23:19:45 INFO:Found 0 stack elements.\n",
      "01/22/2021 23:19:45 INFO:Processing function __builtin___sprintf_chk.\n",
      "01/22/2021 23:19:45 INFO:Found 0 stack elements.\n",
      "01/22/2021 23:19:45 INFO:Processing function malloc.\n",
      "01/22/2021 23:19:45 INFO:Found 0 stack elements.\n",
      "01/22/2021 23:19:45 INFO:Processing function memcpy.\n",
      "01/22/2021 23:19:45 INFO:Found 0 stack elements.\n",
      "01/22/2021 23:19:45 INFO:Processing function strstr.\n",
      "01/22/2021 23:19:45 INFO:Found 0 stack elements.\n",
      "01/22/2021 23:19:45 INFO:Processing function execvp.\n",
      "01/22/2021 23:19:45 INFO:Found 0 stack elements.\n",
      "01/22/2021 23:19:45 INFO:Processing function system.\n",
      "01/22/2021 23:19:45 INFO:Found 0 stack elements.\n",
      "01/22/2021 23:19:45 INFO:Processing function dup2.\n",
      "01/22/2021 23:19:45 INFO:Found 0 stack elements.\n",
      "01/22/2021 23:19:45 INFO:Processing function __builtin_puts.\n",
      "01/22/2021 23:19:45 INFO:Found 0 stack elements.\n",
      "01/22/2021 23:19:45 INFO:Loading file data/cross-compile-dataset/bin/static/gcc/og/parallel statically in GDB.\n"
     ]
    },
    {
     "ename": "NameError",
     "evalue": "name 'queries' is not defined",
     "output_type": "error",
     "traceback": [
      "\u001b[0;31m---------------------------------------------------------------------------\u001b[0m",
      "\u001b[0;31mNameError\u001b[0m                                 Traceback (most recent call last)",
      "\u001b[0;32m<ipython-input-3-b86cadbf3e90>\u001b[0m in \u001b[0;36m<module>\u001b[0;34m\u001b[0m\n\u001b[1;32m      5\u001b[0m \u001b[0mfunctions\u001b[0m \u001b[0;34m=\u001b[0m \u001b[0mfirstComponent\u001b[0m\u001b[0;34m.\u001b[0m\u001b[0mfunctions\u001b[0m\u001b[0;34m\u001b[0m\u001b[0;34m\u001b[0m\u001b[0m\n\u001b[1;32m      6\u001b[0m \u001b[0mfunctions\u001b[0m \u001b[0;34m=\u001b[0m \u001b[0mparseDWARF\u001b[0m\u001b[0;34m(\u001b[0m\u001b[0mdebugFilepath\u001b[0m\u001b[0;34m)\u001b[0m\u001b[0;34m\u001b[0m\u001b[0;34m\u001b[0m\u001b[0m\n\u001b[0;32m----> 7\u001b[0;31m \u001b[0mfunctions\u001b[0m \u001b[0;34m=\u001b[0m \u001b[0mstaticGDB\u001b[0m\u001b[0;34m(\u001b[0m\u001b[0mdebugFilepath\u001b[0m\u001b[0;34m,\u001b[0m \u001b[0mfunctions\u001b[0m\u001b[0;34m)\u001b[0m\u001b[0;34m\u001b[0m\u001b[0;34m\u001b[0m\u001b[0m\n\u001b[0m",
      "\u001b[0;32m~/projects/postdoc/stacksyms/stacksyms.py\u001b[0m in \u001b[0;36mstaticGDB\u001b[0;34m(debugFilepath, functions)\u001b[0m\n\u001b[1;32m    118\u001b[0m     \u001b[0mresult\u001b[0m \u001b[0;34m=\u001b[0m \u001b[0mgdbmi\u001b[0m\u001b[0;34m.\u001b[0m\u001b[0mwrite\u001b[0m\u001b[0;34m(\u001b[0m\u001b[0;34m'file '\u001b[0m \u001b[0;34m+\u001b[0m \u001b[0mdebugFilepath\u001b[0m\u001b[0;34m)\u001b[0m\u001b[0;34m\u001b[0m\u001b[0;34m\u001b[0m\u001b[0m\n\u001b[1;32m    119\u001b[0m     \u001b[0;32mfor\u001b[0m \u001b[0mfunc\u001b[0m \u001b[0;32min\u001b[0m \u001b[0mfunctions\u001b[0m\u001b[0;34m.\u001b[0m\u001b[0mkeys\u001b[0m\u001b[0;34m(\u001b[0m\u001b[0;34m)\u001b[0m\u001b[0;34m:\u001b[0m\u001b[0;34m\u001b[0m\u001b[0;34m\u001b[0m\u001b[0m\n\u001b[0;32m--> 120\u001b[0;31m         \u001b[0;32mfor\u001b[0m \u001b[0mgdbCmd\u001b[0m\u001b[0;34m,\u001b[0m \u001b[0mprocess\u001b[0m \u001b[0;32min\u001b[0m \u001b[0mqueries\u001b[0m\u001b[0;34m:\u001b[0m\u001b[0;34m\u001b[0m\u001b[0;34m\u001b[0m\u001b[0m\n\u001b[0m\u001b[1;32m    121\u001b[0m             \u001b[0m_collectLocals\u001b[0m\u001b[0;34m(\u001b[0m\u001b[0m_queryGDB\u001b[0m\u001b[0;34m(\u001b[0m\u001b[0mgdbmi\u001b[0m\u001b[0;34m,\u001b[0m \u001b[0;34m'info scope '\u001b[0m \u001b[0;34m+\u001b[0m \u001b[0mfunc\u001b[0m\u001b[0;34m)\u001b[0m\u001b[0;34m,\u001b[0m \u001b[0mfunctions\u001b[0m\u001b[0;34m[\u001b[0m\u001b[0mfunc\u001b[0m\u001b[0;34m]\u001b[0m\u001b[0;34m)\u001b[0m\u001b[0;34m\u001b[0m\u001b[0;34m\u001b[0m\u001b[0m\n\u001b[1;32m    122\u001b[0m             \u001b[0m_collectDisas\u001b[0m\u001b[0;34m(\u001b[0m\u001b[0m_queryGDB\u001b[0m\u001b[0;34m(\u001b[0m\u001b[0mgdbmi\u001b[0m\u001b[0;34m,\u001b[0m \u001b[0;34m'disas /r '\u001b[0m \u001b[0;34m+\u001b[0m \u001b[0mfunc\u001b[0m\u001b[0;34m)\u001b[0m\u001b[0;34m,\u001b[0m \u001b[0mfunctions\u001b[0m\u001b[0;34m[\u001b[0m\u001b[0mfunc\u001b[0m\u001b[0;34m]\u001b[0m\u001b[0;34m)\u001b[0m\u001b[0;34m\u001b[0m\u001b[0;34m\u001b[0m\u001b[0m\n",
      "\u001b[0;31mNameError\u001b[0m: name 'queries' is not defined"
     ]
    }
   ],
   "source": [
    "module = newParseDWARF(debugFilepath)\n",
    "firstComponent = module.children().__next__()\n",
    "#print(firstComponent.types[5])\n",
    "#print(firstComponent.variables)\n",
    "functions = firstComponent.functions\n",
    "functions = parseDWARF(debugFilepath)\n",
    "functions = staticGDB(debugFilepath, functions)"
   ]
  },
  {
   "cell_type": "code",
   "execution_count": 5,
   "metadata": {
    "scrolled": true
   },
   "outputs": [
    {
     "name": "stdout",
     "output_type": "stream",
     "text": [
      "////////////////////////\n",
      "main 0x400f88 Location(begin=0, end=0, type=<LocationType.STATIC_LOCAL: 1>, expr=(<ExprOp.CFA: 2>,))\n",
      "maxjobs int (bytesize = 4)\n",
      "0x400ff3 to 0x401099: STATIC_LOCAL(<ExprOp.CFA: 2>, -120, <ExprOp.ADD: 1>)\n",
      "0x401099 to 0x4010b2: STATIC_LOCAL('rax',)\n",
      "0x4010fc to 0x40123e: STATIC_LOCAL(<ExprOp.CFA: 2>, -120, <ExprOp.ADD: 1>)\n",
      "0x401254 to 0x401289: STATIC_LOCAL(<ExprOp.CFA: 2>, -120, <ExprOp.ADD: 1>)\n",
      "0x401289 to 0x40128b: STATIC_LOCAL('rax',)\n",
      "0x40128b to 0x40154e: STATIC_LOCAL(<ExprOp.CFA: 2>, -120, <ExprOp.ADD: 1>)\n",
      "\n",
      "curjobs int (bytesize = 4)\n",
      "0x4013d8 to 0x401513: STATIC_LOCAL('rbx',)\n",
      "0x40151d to 0x40154e: STATIC_LOCAL('rbx',)\n",
      "\n",
      "maxload double (bytesize = 8)\n",
      "0x401120 to 0x401178: STATIC_LOCAL('xmm0',)\n",
      "0x401512 to 0x40151d: STATIC_LOCAL(<ExprOp.CFA: 2>, -128, <ExprOp.ADD: 1>)\n",
      "\n",
      "argsatonce int (bytesize = 4)\n",
      "0x400ff3 to 0x4011ab: STATIC_LOCAL(<ExprOp.CFA: 2>, -104, <ExprOp.ADD: 1>)\n",
      "0x4011ab to 0x4011c8: STATIC_LOCAL('rax',)\n",
      "0x4011c8 to 0x4013d8: STATIC_LOCAL(<ExprOp.CFA: 2>, -104, <ExprOp.ADD: 1>)\n",
      "0x4013d8 to 0x401409: STATIC_LOCAL(<ExprOp.CFA: 2>, -116, <ExprOp.ADD: 1>)\n",
      "0x401409 to 0x40154e: STATIC_LOCAL(<ExprOp.CFA: 2>, -104, <ExprOp.ADD: 1>)\n",
      "\n",
      "opt int (bytesize = 4)\n",
      "0x401040 to 0x40104c: STATIC_LOCAL('rax',)\n",
      "\n",
      "command char** (bytesize = 8)\n",
      "0x400fbe to 0x400ff3: STATIC_LOCAL('rax',)\n",
      "0x400ff3 to 0x40154e: STATIC_LOCAL(<ExprOp.CFA: 2>, -112, <ExprOp.ADD: 1>)\n",
      "\n",
      "arguments char** (bytesize = 8)\n",
      "0x40128b to 0x401312: STATIC_LOCAL('r14',)\n",
      "0x401312 to 0x401320: STATIC_LOCAL('rax',)\n",
      "0x401320 to 0x40151a: STATIC_LOCAL('r14',)\n",
      "0x40151d to 0x40154e: STATIC_LOCAL('r14',)\n",
      "\n",
      "argidx int (bytesize = 4)\n",
      "0x4013d8 to 0x401516: STATIC_LOCAL('r12',)\n",
      "0x40151d to 0x40154e: STATIC_LOCAL('r12',)\n",
      "\n",
      "arglen int (bytesize = 4)\n",
      "0x40128b to 0x4012ff: STATIC_LOCAL('r13',)\n",
      "0x401302 to 0x401518: STATIC_LOCAL('r13',)\n",
      "0x40151d to 0x40154e: STATIC_LOCAL('r13',)\n",
      "\n",
      "cidx int (bytesize = 4)\n",
      "0x40128b to 0x401343: STATIC_LOCAL(<ExprOp.CFA: 2>, -116, <ExprOp.ADD: 1>)\n",
      "0x401343 to 0x401348: STATIC_LOCAL('rax',)\n",
      "0x401348 to 0x4013d8: STATIC_LOCAL(<ExprOp.CFA: 2>, -116, <ExprOp.ADD: 1>)\n",
      "\n",
      "returncode int (bytesize = 4)\n",
      "0x4013d8 to 0x40150e: STATIC_LOCAL('r15',)\n",
      "0x40150e to 0x40151d: STATIC_LOCAL('rax',)\n",
      "0x40151d to 0x401549: STATIC_LOCAL('r15',)\n",
      "0x401549 to 0x40154d: STATIC_LOCAL('rax',)\n",
      "0x40154d to 0x40154e: STATIC_LOCAL('r15',)\n",
      "\n",
      "replace_cb int (bytesize = 4)\n",
      "0x400ff3 to 0x401224: STATIC_LOCAL(<ExprOp.CFA: 2>, -100, <ExprOp.ADD: 1>)\n",
      "0x401229 to 0x40154e: STATIC_LOCAL(<ExprOp.CFA: 2>, -100, <ExprOp.ADD: 1>)\n",
      "\n",
      "stdout_fd int (bytesize = 4)\n",
      "0x0 to 0x0: STATIC_LOCAL(<ExprOp.CFA: 2>, -96, <ExprOp.ADD: 1>)\n",
      "\n",
      "stderr_fd int (bytesize = 4)\n",
      "0x0 to 0x0: STATIC_LOCAL(<ExprOp.CFA: 2>, -92, <ExprOp.ADD: 1>)\n",
      "\n",
      "t char* (bytesize = 8)\n",
      "0x0 to 0x0: STATIC_LOCAL(<ExprOp.CFA: 2>, -88, <ExprOp.ADD: 1>)\n",
      "\n"
     ]
    },
    {
     "ename": "TypeError",
     "evalue": "%d format: a number is required, not NoneType",
     "output_type": "error",
     "traceback": [
      "\u001b[0;31m---------------------------------------------------------------------------\u001b[0m",
      "\u001b[0;31mTypeError\u001b[0m                                 Traceback (most recent call last)",
      "\u001b[0;32m<ipython-input-5-ae267e2a4fc3>\u001b[0m in \u001b[0;36m<module>\u001b[0;34m\u001b[0m\n\u001b[1;32m      4\u001b[0m     \u001b[0mprint\u001b[0m\u001b[0;34m(\u001b[0m\u001b[0mfunc\u001b[0m\u001b[0;34m.\u001b[0m\u001b[0mname\u001b[0m\u001b[0;34m,\u001b[0m \u001b[0mhex\u001b[0m\u001b[0;34m(\u001b[0m\u001b[0mfunc\u001b[0m\u001b[0;34m.\u001b[0m\u001b[0mstart\u001b[0m\u001b[0;34m)\u001b[0m\u001b[0;34m,\u001b[0m \u001b[0mfunc\u001b[0m\u001b[0;34m.\u001b[0m\u001b[0mframe_base\u001b[0m\u001b[0;34m)\u001b[0m\u001b[0;34m\u001b[0m\u001b[0;34m\u001b[0m\u001b[0m\n\u001b[1;32m      5\u001b[0m     \u001b[0;32mfor\u001b[0m \u001b[0mlvar\u001b[0m \u001b[0;32min\u001b[0m \u001b[0mfunc\u001b[0m\u001b[0;34m.\u001b[0m\u001b[0mvariables\u001b[0m\u001b[0;34m:\u001b[0m\u001b[0;34m\u001b[0m\u001b[0;34m\u001b[0m\u001b[0m\n\u001b[0;32m----> 6\u001b[0;31m         \u001b[0mprint\u001b[0m\u001b[0;34m(\u001b[0m\u001b[0mlvar\u001b[0m\u001b[0;34m.\u001b[0m\u001b[0mname\u001b[0m\u001b[0;34m,\u001b[0m \u001b[0mlvar\u001b[0m\u001b[0;34m.\u001b[0m\u001b[0mtype\u001b[0m\u001b[0;34m,\u001b[0m \u001b[0;34m\"(bytesize = %d)\"\u001b[0m\u001b[0;34m%\u001b[0m\u001b[0mlvar\u001b[0m\u001b[0;34m.\u001b[0m\u001b[0mtype\u001b[0m\u001b[0;34m.\u001b[0m\u001b[0mbyte_size\u001b[0m\u001b[0;34m)\u001b[0m\u001b[0;34m\u001b[0m\u001b[0;34m\u001b[0m\u001b[0m\n\u001b[0m\u001b[1;32m      7\u001b[0m         \u001b[0;32mfor\u001b[0m \u001b[0mloc\u001b[0m \u001b[0;32min\u001b[0m \u001b[0mlvar\u001b[0m\u001b[0;34m.\u001b[0m\u001b[0mlocations\u001b[0m\u001b[0;34m:\u001b[0m\u001b[0;34m\u001b[0m\u001b[0;34m\u001b[0m\u001b[0m\n\u001b[1;32m      8\u001b[0m             print(hex(loc.begin) + \" to \" + hex(loc.end) + \": \" \\\n",
      "\u001b[0;31mTypeError\u001b[0m: %d format: a number is required, not NoneType"
     ]
    }
   ],
   "source": [
    "X, Y, Z = [], [], []\n",
    "for func in functions:\n",
    "    print('////////////////////////')\n",
    "    print(func.name, hex(func.start), func.frame_base)\n",
    "    for lvar in func.variables:\n",
    "        print(lvar.name, lvar.type, \"(bytesize = %d)\"%lvar.type.byte_size)\n",
    "        for loc in lvar.locations:\n",
    "            print(hex(loc.begin) + \" to \" + hex(loc.end) + \": \" \\\n",
    "            + str(loc.type)[13:]\n",
    "            + str(loc.expr))\n",
    "        print('')\n",
    "#    X += [func] #generateFeature(func, functions)]\n",
    "#    Y += [generateLabel(func, functions)]\n",
    "#    Z += [generateDebugLabel(func, functions)]\n",
    "#print([x+\" => \"+ str(y) for x,y in zip(X,Z)])\n",
    "\n"
   ]
  },
  {
   "cell_type": "code",
   "execution_count": null,
   "metadata": {},
   "outputs": [],
   "source": [
    "func   = 'quotearg_n_style_colon'\n",
    "gdbmi  = GdbController()\n",
    "result = gdbmi.write('file ' +debugFilepath)\n",
    "result = gdbmi.write('info scope ' + func)\n",
    "result = [msg['payload'] for msg in result if msg['type']=='console']\n",
    "_collectLocals(result, functions[func])"
   ]
  },
  {
   "cell_type": "code",
   "execution_count": null,
   "metadata": {},
   "outputs": [],
   "source": [
    "generateLabel(func, functions)"
   ]
  },
  {
   "cell_type": "code",
   "execution_count": null,
   "metadata": {},
   "outputs": [],
   "source": [
    "cu = ELFFile(open(debugFilepath, mode='rb')).get_dwarf_info().iter_CUs().__next__()"
   ]
  },
  {
   "cell_type": "code",
   "execution_count": 16,
   "metadata": {},
   "outputs": [
    {
     "name": "stdout",
     "output_type": "stream",
     "text": [
      "[<Function: main@0x400f88>, <Function: create_pipe_child@0x400eab>, <Function: pipe_child@0x400b4e>, <Function: wait_for_child@0x400e32>, <Function: exec_child@0x400c49>, <Function: redirect@0x400aee>, <Function: usage@0x400c23>]\n"
     ]
    }
   ],
   "source": []
  },
  {
   "cell_type": "code",
   "execution_count": null,
   "metadata": {},
   "outputs": [],
   "source": []
  },
  {
   "cell_type": "code",
   "execution_count": null,
   "metadata": {},
   "outputs": [],
   "source": []
  }
 ],
 "metadata": {
  "kernelspec": {
   "display_name": "Python 3",
   "language": "python",
   "name": "python3"
  },
  "language_info": {
   "codemirror_mode": {
    "name": "ipython",
    "version": 3
   },
   "file_extension": ".py",
   "mimetype": "text/x-python",
   "name": "python",
   "nbconvert_exporter": "python",
   "pygments_lexer": "ipython3",
   "version": "3.6.9"
  },
  "name": "generateDebugLabels.ipynb"
 },
 "nbformat": 4,
 "nbformat_minor": 2
}
